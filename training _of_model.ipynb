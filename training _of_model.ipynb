{
 "cells": [
  {
   "cell_type": "code",
   "execution_count": null,
   "id": "50b0047f",
   "metadata": {},
   "outputs": [],
   "source": [
    "#Name : Areeba Nazar\n",
    "#Assignment no :2\n",
    "#Assignment topic: Training Of The Model On Given Dataset(iris.csv)\n",
    "#Submitted to:Nabeegh Ahmad"
   ]
  },
  {
   "cell_type": "code",
   "execution_count": 13,
   "id": "078de3b1",
   "metadata": {},
   "outputs": [
    {
     "name": "stdout",
     "output_type": "stream",
     "text": [
      "Requirement already satisfied: torch in c:\\users\\areeb\\anaconda3\\lib\\site-packages (2.3.1)\n",
      "Requirement already satisfied: torchvision in c:\\users\\areeb\\anaconda3\\lib\\site-packages (0.18.1)\n",
      "Requirement already satisfied: pandas in c:\\users\\areeb\\anaconda3\\lib\\site-packages (2.1.4)\n",
      "Requirement already satisfied: numpy in c:\\users\\areeb\\anaconda3\\lib\\site-packages (1.26.4)\n",
      "Requirement already satisfied: matplotlib in c:\\users\\areeb\\anaconda3\\lib\\site-packages (3.8.0)\n",
      "Requirement already satisfied: scikit-learn in c:\\users\\areeb\\anaconda3\\lib\\site-packages (1.2.2)\n",
      "Requirement already satisfied: filelock in c:\\users\\areeb\\anaconda3\\lib\\site-packages (from torch) (3.13.1)\n",
      "Requirement already satisfied: typing-extensions>=4.8.0 in c:\\users\\areeb\\anaconda3\\lib\\site-packages (from torch) (4.9.0)\n",
      "Requirement already satisfied: sympy in c:\\users\\areeb\\anaconda3\\lib\\site-packages (from torch) (1.12)\n",
      "Requirement already satisfied: networkx in c:\\users\\areeb\\anaconda3\\lib\\site-packages (from torch) (3.1)\n",
      "Requirement already satisfied: jinja2 in c:\\users\\areeb\\anaconda3\\lib\\site-packages (from torch) (3.1.3)\n",
      "Requirement already satisfied: fsspec in c:\\users\\areeb\\anaconda3\\lib\\site-packages (from torch) (2023.10.0)\n",
      "Requirement already satisfied: mkl<=2021.4.0,>=2021.1.1 in c:\\users\\areeb\\anaconda3\\lib\\site-packages (from torch) (2021.4.0)\n",
      "Requirement already satisfied: pillow!=8.3.*,>=5.3.0 in c:\\users\\areeb\\anaconda3\\lib\\site-packages (from torchvision) (10.2.0)\n",
      "Requirement already satisfied: python-dateutil>=2.8.2 in c:\\users\\areeb\\anaconda3\\lib\\site-packages (from pandas) (2.8.2)\n",
      "Requirement already satisfied: pytz>=2020.1 in c:\\users\\areeb\\anaconda3\\lib\\site-packages (from pandas) (2023.3.post1)\n",
      "Requirement already satisfied: tzdata>=2022.1 in c:\\users\\areeb\\anaconda3\\lib\\site-packages (from pandas) (2023.3)\n",
      "Requirement already satisfied: contourpy>=1.0.1 in c:\\users\\areeb\\anaconda3\\lib\\site-packages (from matplotlib) (1.2.0)\n",
      "Requirement already satisfied: cycler>=0.10 in c:\\users\\areeb\\anaconda3\\lib\\site-packages (from matplotlib) (0.11.0)\n",
      "Requirement already satisfied: fonttools>=4.22.0 in c:\\users\\areeb\\anaconda3\\lib\\site-packages (from matplotlib) (4.25.0)\n",
      "Requirement already satisfied: kiwisolver>=1.0.1 in c:\\users\\areeb\\anaconda3\\lib\\site-packages (from matplotlib) (1.4.4)\n",
      "Requirement already satisfied: packaging>=20.0 in c:\\users\\areeb\\anaconda3\\lib\\site-packages (from matplotlib) (23.1)\n",
      "Requirement already satisfied: pyparsing>=2.3.1 in c:\\users\\areeb\\anaconda3\\lib\\site-packages (from matplotlib) (3.0.9)\n",
      "Requirement already satisfied: scipy>=1.3.2 in c:\\users\\areeb\\anaconda3\\lib\\site-packages (from scikit-learn) (1.11.4)\n",
      "Requirement already satisfied: joblib>=1.1.1 in c:\\users\\areeb\\anaconda3\\lib\\site-packages (from scikit-learn) (1.2.0)\n",
      "Requirement already satisfied: threadpoolctl>=2.0.0 in c:\\users\\areeb\\anaconda3\\lib\\site-packages (from scikit-learn) (2.2.0)\n",
      "Requirement already satisfied: intel-openmp==2021.* in c:\\users\\areeb\\anaconda3\\lib\\site-packages (from mkl<=2021.4.0,>=2021.1.1->torch) (2021.4.0)\n",
      "Requirement already satisfied: tbb==2021.* in c:\\users\\areeb\\anaconda3\\lib\\site-packages (from mkl<=2021.4.0,>=2021.1.1->torch) (2021.13.0)\n",
      "Requirement already satisfied: six>=1.5 in c:\\users\\areeb\\anaconda3\\lib\\site-packages (from python-dateutil>=2.8.2->pandas) (1.16.0)\n",
      "Requirement already satisfied: MarkupSafe>=2.0 in c:\\users\\areeb\\anaconda3\\lib\\site-packages (from jinja2->torch) (2.1.3)\n",
      "Requirement already satisfied: mpmath>=0.19 in c:\\users\\areeb\\anaconda3\\lib\\site-packages (from sympy->torch) (1.3.0)\n"
     ]
    }
   ],
   "source": [
    "!pip install torch torchvision pandas numpy matplotlib scikit-learn"
   ]
  },
  {
   "cell_type": "code",
   "execution_count": 14,
   "id": "1a8eb42e",
   "metadata": {},
   "outputs": [],
   "source": [
    "import pandas as pd\n",
    "import numpy as np\n",
    "from sklearn.model_selection import train_test_split\n",
    "from sklearn.preprocessing import StandardScaler, LabelEncoder\n",
    "import torch\n",
    "import torch.nn as nn\n",
    "import torch.nn.functional as F\n",
    "from torch.utils.data import DataLoader, TensorDataset"
   ]
  },
  {
   "cell_type": "code",
   "execution_count": 15,
   "id": "2d9313ad",
   "metadata": {},
   "outputs": [],
   "source": [
    "# 1. Loading and preprocessing of  the data\n",
    "data = pd.read_csv('iris.csv') \n",
    "\n",
    "X = data.iloc[:, :-1].values  \n",
    "y = data.iloc[:, -1].values   \n",
    "\n",
    "# Encoding of  labels to numerical values\n",
    "label_encoder = LabelEncoder()\n",
    "y = label_encoder.fit_transform(y)\n",
    "\n",
    "# Spliting data  into train and test sets\n",
    "X_train, X_test, y_train, y_test = train_test_split(X, y, test_size=0.2, random_state=42)\n"
   ]
  },
  {
   "cell_type": "code",
   "execution_count": 16,
   "id": "f6dd0005",
   "metadata": {},
   "outputs": [],
   "source": [
    "# Standardize features\n",
    "scaler = StandardScaler()\n",
    "X_train = scaler.fit_transform(X_train)\n",
    "X_test = scaler.transform(X_test)\n",
    "\n",
    "# Convertion to PyTorch tensors\n",
    "X_train_tensor = torch.tensor(X_train, dtype=torch.float32)\n",
    "y_train_tensor = torch.tensor(y_train, dtype=torch.long) \n",
    "X_test_tensor = torch.tensor(X_test, dtype=torch.float32)\n",
    "y_test_tensor = torch.tensor(y_test, dtype=torch.long)\n"
   ]
  },
  {
   "cell_type": "code",
   "execution_count": 17,
   "id": "0a4320d8",
   "metadata": {},
   "outputs": [],
   "source": [
    "# Creation of  DataLoaders\n",
    "train_dataset = TensorDataset(X_train_tensor, y_train_tensor)\n",
    "train_loader = DataLoader(train_dataset, batch_size=32, shuffle=True)\n",
    "test_dataset = TensorDataset(X_test_tensor, y_test_tensor)\n",
    "test_loader = DataLoader(test_dataset, batch_size=32, shuffle=False)\n"
   ]
  },
  {
   "cell_type": "code",
   "execution_count": 18,
   "id": "f05e24d1",
   "metadata": {},
   "outputs": [],
   "source": [
    "# 2. Defining neural network model\n",
    "class IrisClassifier(nn.Module):\n",
    "    def __init__(self, input_size, num_classes):\n",
    "        super(IrisClassifier, self).__init__()\n",
    "        self.fc1 = nn.Linear(input_size, 64)\n",
    "        self.fc2 = nn.Linear(64, 32)\n",
    "        self.fc3 = nn.Linear(32, num_classes)\n",
    "\n",
    "    def forward(self, x):\n",
    "        x = F.relu(self.fc1(x))\n",
    "        x = F.relu(self.fc2(x))\n",
    "        x = self.fc3(x)  # Output logits (no softmax here, as CrossEntropyLoss handles it)\n",
    "        return x\n",
    "\n"
   ]
  },
  {
   "cell_type": "code",
   "execution_count": 19,
   "id": "b80441d1",
   "metadata": {},
   "outputs": [],
   "source": [
    "# Initialing model, loss, and optimizer\n",
    "input_size = X_train.shape[1]\n",
    "num_classes = len(label_encoder.classes_)  \n",
    "model = IrisClassifier(input_size, num_classes)\n",
    "criterion = nn.CrossEntropyLoss()\n",
    "optimizer = torch.optim.Adam(model.parameters(), lr=0.001)\n"
   ]
  },
  {
   "cell_type": "code",
   "execution_count": 20,
   "id": "09f7e21c",
   "metadata": {},
   "outputs": [
    {
     "name": "stdout",
     "output_type": "stream",
     "text": [
      "Epoch [1/50], Loss: 1.0439\n",
      "Epoch [2/50], Loss: 1.0001\n",
      "Epoch [3/50], Loss: 0.9443\n",
      "Epoch [4/50], Loss: 0.8764\n",
      "Epoch [5/50], Loss: 0.8723\n",
      "Epoch [6/50], Loss: 0.8010\n",
      "Epoch [7/50], Loss: 0.7433\n",
      "Epoch [8/50], Loss: 0.7401\n",
      "Epoch [9/50], Loss: 0.5859\n",
      "Epoch [10/50], Loss: 0.5876\n",
      "Epoch [11/50], Loss: 0.6001\n",
      "Epoch [12/50], Loss: 0.4391\n",
      "Epoch [13/50], Loss: 0.4364\n",
      "Epoch [14/50], Loss: 0.4123\n",
      "Epoch [15/50], Loss: 0.4008\n",
      "Epoch [16/50], Loss: 0.3290\n",
      "Epoch [17/50], Loss: 0.3907\n",
      "Epoch [18/50], Loss: 0.2503\n",
      "Epoch [19/50], Loss: 0.3241\n",
      "Epoch [20/50], Loss: 0.3503\n",
      "Epoch [21/50], Loss: 0.2794\n",
      "Epoch [22/50], Loss: 0.2876\n",
      "Epoch [23/50], Loss: 0.2740\n",
      "Epoch [24/50], Loss: 0.3701\n",
      "Epoch [25/50], Loss: 0.2957\n",
      "Epoch [26/50], Loss: 0.3483\n",
      "Epoch [27/50], Loss: 0.2780\n",
      "Epoch [28/50], Loss: 0.1834\n",
      "Epoch [29/50], Loss: 0.2478\n",
      "Epoch [30/50], Loss: 0.2201\n",
      "Epoch [31/50], Loss: 0.1742\n",
      "Epoch [32/50], Loss: 0.2032\n",
      "Epoch [33/50], Loss: 0.1425\n",
      "Epoch [34/50], Loss: 0.1271\n",
      "Epoch [35/50], Loss: 0.1371\n",
      "Epoch [36/50], Loss: 0.1640\n",
      "Epoch [37/50], Loss: 0.1933\n",
      "Epoch [38/50], Loss: 0.0811\n",
      "Epoch [39/50], Loss: 0.1225\n",
      "Epoch [40/50], Loss: 0.1332\n",
      "Epoch [41/50], Loss: 0.1526\n",
      "Epoch [42/50], Loss: 0.0867\n",
      "Epoch [43/50], Loss: 0.1205\n",
      "Epoch [44/50], Loss: 0.0908\n",
      "Epoch [45/50], Loss: 0.0807\n",
      "Epoch [46/50], Loss: 0.1573\n",
      "Epoch [47/50], Loss: 0.1166\n",
      "Epoch [48/50], Loss: 0.0919\n",
      "Epoch [49/50], Loss: 0.0682\n",
      "Epoch [50/50], Loss: 0.0785\n"
     ]
    }
   ],
   "source": [
    "# 3. Training the model\n",
    "num_epochs = 50\n",
    "for epoch in range(num_epochs):\n",
    "    for batch_X, batch_y in train_loader:\n",
    "        optimizer.zero_grad()\n",
    "        outputs = model(batch_X)\n",
    "        loss = criterion(outputs, batch_y) \n",
    "        loss.backward()\n",
    "        optimizer.step()\n",
    "    print(f'Epoch [{epoch+1}/{num_epochs}], Loss: {loss.item():.4f}')"
   ]
  },
  {
   "cell_type": "code",
   "execution_count": 21,
   "id": "de5856bc",
   "metadata": {},
   "outputs": [
    {
     "name": "stdout",
     "output_type": "stream",
     "text": [
      "Accuracy of the model on the test set: 100.00%\n"
     ]
    }
   ],
   "source": [
    "# 4. Evaluation of accuracy of the model\n",
    "model.eval()\n",
    "with torch.no_grad():\n",
    "    correct = 0\n",
    "    total = 0\n",
    "    for batch_X, batch_y in test_loader:\n",
    "        outputs = model(batch_X)\n",
    "        _, predicted = torch.max(outputs.data, 1)\n",
    "        total += batch_y.size(0)\n",
    "        correct += (predicted == batch_y).sum().item()\n",
    "\n",
    "accuracy = 100 * correct / total\n",
    "print(f'Accuracy of the model on the test set: {accuracy:.2f}%')"
   ]
  },
  {
   "cell_type": "code",
   "execution_count": null,
   "id": "618ef716",
   "metadata": {},
   "outputs": [],
   "source": []
  }
 ],
 "metadata": {
  "kernelspec": {
   "display_name": "Python 3 (ipykernel)",
   "language": "python",
   "name": "python3"
  },
  "language_info": {
   "codemirror_mode": {
    "name": "ipython",
    "version": 3
   },
   "file_extension": ".py",
   "mimetype": "text/x-python",
   "name": "python",
   "nbconvert_exporter": "python",
   "pygments_lexer": "ipython3",
   "version": "3.11.7"
  }
 },
 "nbformat": 4,
 "nbformat_minor": 5
}
